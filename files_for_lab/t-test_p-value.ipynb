{
 "cells": [
  {
   "cell_type": "markdown",
   "id": "9781bf76",
   "metadata": {},
   "source": [
    "### Lab | Inferential statistics - T-test & P-value  \n",
    "**Instructions**  \n",
    "We will have another simple example on two sample t test (pooled- when the variances are equal).  \n",
    "But this time this is a one sided t-test  \n",
    "\n",
    "In a packing plant, a machine packs cartons with jars. \n",
    "It is supposed that a new machine will pack faster on the average than the machine currently used.   \n",
    "To test that hypothesis, the times it takes each machine to pack ten cartons are recorded.  \n",
    "The results, in seconds, are shown in the tables in the file files_for_lab/machine.txt.  \n",
    "Assume that there is sufficient evidence to conduct the t test, does the data provide sufficient evidence to show if one machine is better than the other  "
   ]
  },
  {
   "cell_type": "code",
   "execution_count": 4,
   "id": "4699a25a",
   "metadata": {},
   "outputs": [],
   "source": [
    "import pandas as pd\n",
    "from scipy.stats import ttest_ind\n",
    "\n",
    "# reading the data\n",
    "\n",
    "machine_data = pd.read_csv('./machine.txt', delimiter='\\t', encoding='utf-16')"
   ]
  },
  {
   "cell_type": "code",
   "execution_count": 7,
   "id": "eeec15d3",
   "metadata": {},
   "outputs": [
    {
     "data": {
      "text/html": [
       "<div>\n",
       "<style scoped>\n",
       "    .dataframe tbody tr th:only-of-type {\n",
       "        vertical-align: middle;\n",
       "    }\n",
       "\n",
       "    .dataframe tbody tr th {\n",
       "        vertical-align: top;\n",
       "    }\n",
       "\n",
       "    .dataframe thead th {\n",
       "        text-align: right;\n",
       "    }\n",
       "</style>\n",
       "<table border=\"1\" class=\"dataframe\">\n",
       "  <thead>\n",
       "    <tr style=\"text-align: right;\">\n",
       "      <th></th>\n",
       "      <th>New machine</th>\n",
       "      <th>Old machine</th>\n",
       "    </tr>\n",
       "  </thead>\n",
       "  <tbody>\n",
       "    <tr>\n",
       "      <th>0</th>\n",
       "      <td>42.1</td>\n",
       "      <td>42.7</td>\n",
       "    </tr>\n",
       "    <tr>\n",
       "      <th>1</th>\n",
       "      <td>41.0</td>\n",
       "      <td>43.6</td>\n",
       "    </tr>\n",
       "    <tr>\n",
       "      <th>2</th>\n",
       "      <td>41.3</td>\n",
       "      <td>43.8</td>\n",
       "    </tr>\n",
       "    <tr>\n",
       "      <th>3</th>\n",
       "      <td>41.8</td>\n",
       "      <td>43.3</td>\n",
       "    </tr>\n",
       "    <tr>\n",
       "      <th>4</th>\n",
       "      <td>42.4</td>\n",
       "      <td>42.5</td>\n",
       "    </tr>\n",
       "    <tr>\n",
       "      <th>5</th>\n",
       "      <td>42.8</td>\n",
       "      <td>43.5</td>\n",
       "    </tr>\n",
       "    <tr>\n",
       "      <th>6</th>\n",
       "      <td>43.2</td>\n",
       "      <td>43.1</td>\n",
       "    </tr>\n",
       "    <tr>\n",
       "      <th>7</th>\n",
       "      <td>42.3</td>\n",
       "      <td>41.7</td>\n",
       "    </tr>\n",
       "    <tr>\n",
       "      <th>8</th>\n",
       "      <td>41.8</td>\n",
       "      <td>44.0</td>\n",
       "    </tr>\n",
       "    <tr>\n",
       "      <th>9</th>\n",
       "      <td>42.7</td>\n",
       "      <td>44.1</td>\n",
       "    </tr>\n",
       "  </tbody>\n",
       "</table>\n",
       "</div>"
      ],
      "text/plain": [
       "   New machine      Old machine\n",
       "0         42.1             42.7\n",
       "1         41.0             43.6\n",
       "2         41.3             43.8\n",
       "3         41.8             43.3\n",
       "4         42.4             42.5\n",
       "5         42.8             43.5\n",
       "6         43.2             43.1\n",
       "7         42.3             41.7\n",
       "8         41.8             44.0\n",
       "9         42.7             44.1"
      ]
     },
     "execution_count": 7,
     "metadata": {},
     "output_type": "execute_result"
    }
   ],
   "source": [
    "machine_data"
   ]
  },
  {
   "cell_type": "code",
   "execution_count": 15,
   "id": "e8994e66",
   "metadata": {},
   "outputs": [
    {
     "data": {
      "text/plain": [
       "Index(['New machine', '    Old machine'], dtype='object')"
      ]
     },
     "execution_count": 15,
     "metadata": {},
     "output_type": "execute_result"
    }
   ],
   "source": [
    "machine_data.columns"
   ]
  },
  {
   "cell_type": "code",
   "execution_count": 14,
   "id": "aca49a52",
   "metadata": {},
   "outputs": [],
   "source": [
    "## assign data for each machine\n",
    "\n",
    "New_machine = machine_data['New machine']\n",
    "Old_machine = machine_data['    Old machine']"
   ]
  },
  {
   "cell_type": "code",
   "execution_count": 19,
   "id": "170b6534",
   "metadata": {},
   "outputs": [],
   "source": [
    "# conduct t-test\n",
    "ttest = ttest_ind(New_machine,Old_machine)"
   ]
  },
  {
   "cell_type": "code",
   "execution_count": 20,
   "id": "c64e026c",
   "metadata": {},
   "outputs": [
    {
     "data": {
      "text/plain": [
       "Ttest_indResult(statistic=-3.3972307061176026, pvalue=0.0032111425007745158)"
      ]
     },
     "execution_count": 20,
     "metadata": {},
     "output_type": "execute_result"
    }
   ],
   "source": [
    "ttest"
   ]
  },
  {
   "cell_type": "code",
   "execution_count": 21,
   "id": "789d77c8",
   "metadata": {},
   "outputs": [],
   "source": [
    "t_stat = ttest[0]\n",
    "p_value = ttest[1]"
   ]
  },
  {
   "cell_type": "markdown",
   "id": "ae20da22",
   "metadata": {},
   "source": [
    "- t_value of 10 degree of freedom at one-tail 0.05 confidence level is 1.812\n",
    "\n"
   ]
  },
  {
   "cell_type": "markdown",
   "id": "332c6820",
   "metadata": {},
   "source": [
    "We can reject the Null Hypothesis\n",
    "### New machine has better performance"
   ]
  },
  {
   "cell_type": "code",
   "execution_count": null,
   "id": "17b41cc6",
   "metadata": {},
   "outputs": [],
   "source": []
  }
 ],
 "metadata": {
  "kernelspec": {
   "display_name": "Python 3 (ipykernel)",
   "language": "python",
   "name": "python3"
  },
  "language_info": {
   "codemirror_mode": {
    "name": "ipython",
    "version": 3
   },
   "file_extension": ".py",
   "mimetype": "text/x-python",
   "name": "python",
   "nbconvert_exporter": "python",
   "pygments_lexer": "ipython3",
   "version": "3.9.13"
  }
 },
 "nbformat": 4,
 "nbformat_minor": 5
}
